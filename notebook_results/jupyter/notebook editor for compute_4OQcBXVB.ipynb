{
  "metadata": {
    "kernelspec": {
      "name": "python3",
      "display_name": "Python 3",
      "language": "python"
    },
    "language_info": {
      "name": "python",
      "version": "3.7.13",
      "mimetype": "text/x-python",
      "codemirror_mode": {
        "name": "ipython",
        "version": 3
      },
      "pygments_lexer": "ipython3",
      "nbconvert_exporter": "python",
      "file_extension": ".py"
    },
    "customFields": {},
    "tags": [
      "deleted-recipe-editor"
    ],
    "modifiedBy": "admin",
    "creator": "admin",
    "createdOn": 1737281016047
  },
  "nbformat": 4,
  "nbformat_minor": 1,
  "cells": [
    {
      "execution_count": 1,
      "cell_type": "code",
      "metadata": {},
      "source": [
        "# -*- coding: utf-8 -*-\nimport dataiku\nimport pandas as pd, numpy as np\nfrom dataiku import pandasutils as pdu\nfrom sklearn.metrics import accuracy_score, precision_score, recall_score, f1_score, roc_auc_score, confusion_matrix\n\n# Read recipe inputs\ntest_predicted_merged \u003d dataiku.Dataset(\"test_predicted_merged\")\ntest_predicted_merged_df \u003d test_predicted_merged.get_dataframe()\n\n\n\n\ndef evaluate_binary_classification(y_true, y_pred):\n  \"\"\"\n  Evaluates the performance of a binary classification model.\n\n  Args:\n    y_true: True labels.\n    y_pred: Predicted labels.\n\n  Returns:\n    A dictionary containing the following metrics:\n      - accuracy\n      - precision\n      - recall\n      - f1_score\n      - roc_auc_score\n      - confusion_matrix\n  \"\"\"\n\n  accuracy \u003d accuracy_score(y_true, y_pred)\n  precision \u003d precision_score(y_true, y_pred)\n  recall \u003d recall_score(y_true, y_pred)\n  f1 \u003d f1_score(y_true, y_pred)\n  roc_auc \u003d roc_auc_score(y_true, y_pred)\n  conf_matrix \u003d confusion_matrix(y_true, y_pred)\n\n  return {\n      \u0027accuracy\u0027: accuracy,\n      \u0027precision\u0027: precision,\n      \u0027recall\u0027: recall,\n      \u0027f1_score\u0027: f1,\n      \u0027roc_auc\u0027: roc_auc,\n      \u0027confusion_matrix\u0027: conf_matrix\n  }\n\n#\ny_true \u003d test_predicted_merged_df[\u0027fraud_bool\u0027]\ny_pred \u003d test_predicted_merged_df[\u0027prediction\u0027]\n\nmetrics \u003d evaluate_binary_classification(y_true, y_pred)\nModelEvaluationStore \u003d metrics.copy()\n#print(\"Accuracy:\", metrics[\u0027accuracy\u0027])\n#print(\"Precision:\", metrics[\u0027precision\u0027])\n#print(\"Recall:\", metrics[\u0027recall\u0027])\n#print(\"F1-score:\", metrics[\u0027f1_score\u0027])\n#print(\"ROC AUC:\", metrics[\u0027roc_auc\u0027])\n#print(\"Confusion Matrix:\\n\", metrics[\u0027confusion_matrix\u0027])\n\n\n# Write recipe outputs\ntest_scored_evaluation \u003d dataiku.ModelEvaluationStore(\"4OQcBXVB\")\ntest_scored_evaluation_info \u003d test_scored_evaluation.get_info()"
      ],
      "outputs": []
    },
    {
      "execution_count": 19,
      "cell_type": "code",
      "metadata": {},
      "source": [
        "type(test_scored_evaluation), test_scored_evaluation_info"
      ],
      "outputs": [
        {
          "output_type": "execute_result",
          "execution_count": 19,
          "data": {
            "text/plain": "(dataiku.core.model_evaluation_store.ModelEvaluationStore,\n {\u0027projectKey\u0027: \u0027DSP_1\u0027, \u0027id\u0027: \u00274OQcBXVB\u0027})"
          },
          "metadata": {}
        }
      ]
    },
    {
      "execution_count": 20,
      "cell_type": "code",
      "metadata": {},
      "source": [
        "test_scored_evaluation_info.get(\u0027id\u0027)"
      ],
      "outputs": [
        {
          "output_type": "execute_result",
          "execution_count": 20,
          "data": {
            "text/plain": "\u00274OQcBXVB\u0027"
          },
          "metadata": {}
        }
      ]
    }
  ]
}